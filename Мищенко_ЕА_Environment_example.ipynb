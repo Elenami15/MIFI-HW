{
  "nbformat": 4,
  "nbformat_minor": 0,
  "metadata": {
    "colab": {
      "provenance": []
    },
    "kernelspec": {
      "name": "python3",
      "display_name": "Python 3"
    },
    "language_info": {
      "name": "python"
    }
  },
  "cells": [
    {
      "cell_type": "code",
      "execution_count": null,
      "metadata": {
        "id": "MXXTuy_o0sjk",
        "colab": {
          "base_uri": "https://localhost:8080/"
        },
        "outputId": "ceb5d19e-3894-4cd2-c628-534ba3f3cf87"
      },
      "outputs": [
        {
          "output_type": "stream",
          "name": "stdout",
          "text": [
            "  Preparing metadata (setup.py) ... \u001b[?25l\u001b[?25hdone\n",
            "\u001b[2K   \u001b[90m━━━━━━━━━━━━━━━━━━━━━━━━━━━━━━━━━━━━━━━━\u001b[0m \u001b[32m1.4/1.4 MB\u001b[0m \u001b[31m14.6 MB/s\u001b[0m eta \u001b[36m0:00:00\u001b[0m\n",
            "\u001b[2K   \u001b[90m━━━━━━━━━━━━━━━━━━━━━━━━━━━━━━━━━━━━━━━━\u001b[0m \u001b[32m953.8/953.8 kB\u001b[0m \u001b[31m39.8 MB/s\u001b[0m eta \u001b[36m0:00:00\u001b[0m\n",
            "\u001b[2K   \u001b[90m━━━━━━━━━━━━━━━━━━━━━━━━━━━━━━━━━━━━━━━━\u001b[0m \u001b[32m840.2/840.2 kB\u001b[0m \u001b[31m29.9 MB/s\u001b[0m eta \u001b[36m0:00:00\u001b[0m\n",
            "\u001b[2K   \u001b[90m━━━━━━━━━━━━━━━━━━━━━━━━━━━━━━━━━━━━━━━━\u001b[0m \u001b[32m178.7/178.7 kB\u001b[0m \u001b[31m14.3 MB/s\u001b[0m eta \u001b[36m0:00:00\u001b[0m\n",
            "\u001b[?25h  Building wheel for Chessnut (setup.py) ... \u001b[?25l\u001b[?25hdone\n"
          ]
        }
      ],
      "source": [
        "!pip install -q -U kaggle_environments"
      ]
    },
    {
      "cell_type": "code",
      "source": [
        "import numpy as np\n",
        "import pandas as pd\n",
        "import random\n",
        "import math\n",
        "\n",
        "import matplotlib.pyplot as plt\n",
        "import seaborn as sns\n",
        "\n",
        "from kaggle_environments import make, evaluate\n"
      ],
      "metadata": {
        "id": "yz23vWHD0wcj",
        "colab": {
          "base_uri": "https://localhost:8080/"
        },
        "outputId": "544e4464-a033-43fc-b192-903ddb19a2ba"
      },
      "execution_count": null,
      "outputs": [
        {
          "output_type": "stream",
          "name": "stderr",
          "text": [
            "/usr/local/lib/python3.10/dist-packages/pygame/pkgdata.py:25: DeprecationWarning: pkg_resources is deprecated as an API. See https://setuptools.pypa.io/en/latest/pkg_resources.html\n",
            "  from pkg_resources import resource_stream, resource_exists\n",
            "/usr/local/lib/python3.10/dist-packages/pkg_resources/__init__.py:3154: DeprecationWarning: Deprecated call to `pkg_resources.declare_namespace('google')`.\n",
            "Implementing implicit namespace packages (as specified in PEP 420) is preferred to `pkg_resources.declare_namespace`. See https://setuptools.pypa.io/en/latest/references/keywords.html#keyword-namespace-packages\n",
            "  declare_namespace(pkg)\n",
            "/usr/local/lib/python3.10/dist-packages/pkg_resources/__init__.py:3154: DeprecationWarning: Deprecated call to `pkg_resources.declare_namespace('google.cloud')`.\n",
            "Implementing implicit namespace packages (as specified in PEP 420) is preferred to `pkg_resources.declare_namespace`. See https://setuptools.pypa.io/en/latest/references/keywords.html#keyword-namespace-packages\n",
            "  declare_namespace(pkg)\n",
            "/usr/local/lib/python3.10/dist-packages/pkg_resources/__init__.py:3154: DeprecationWarning: Deprecated call to `pkg_resources.declare_namespace('sphinxcontrib')`.\n",
            "Implementing implicit namespace packages (as specified in PEP 420) is preferred to `pkg_resources.declare_namespace`. See https://setuptools.pypa.io/en/latest/references/keywords.html#keyword-namespace-packages\n",
            "  declare_namespace(pkg)\n"
          ]
        }
      ]
    },
    {
      "cell_type": "markdown",
      "source": [
        "1) Добавляем агента, который выбирает только камень."
      ],
      "metadata": {
        "id": "bnnLh47NbBcq"
      }
    },
    {
      "cell_type": "code",
      "source": [
        "class RockAgent:\n",
        "    def __call__(self, observation, configuration):\n",
        "        # 0 - камень\n",
        "        return 0"
      ],
      "metadata": {
        "id": "5CWngAW8a13q"
      },
      "execution_count": null,
      "outputs": []
    },
    {
      "cell_type": "markdown",
      "source": [
        "2) Добавляем агента, который выбирает только бумагу."
      ],
      "metadata": {
        "id": "RhpkxchDa5hA"
      }
    },
    {
      "cell_type": "code",
      "source": [
        "class PaperAgent:\n",
        "    def __call__(self, observation, configuration):\n",
        "        # 1 - бумага\n",
        "        return 1"
      ],
      "metadata": {
        "id": "ZbhG8V5bOQYv"
      },
      "execution_count": null,
      "outputs": []
    },
    {
      "cell_type": "markdown",
      "source": [
        "3) Добавляем агента, который выбирает только ножницы."
      ],
      "metadata": {
        "id": "o9RTg0gMOlVF"
      }
    },
    {
      "cell_type": "code",
      "source": [
        "class ScissorsAgent:\n",
        "    def __call__(self, observation, configuration):\n",
        "        # 2 - ножницы\n",
        "        return 2"
      ],
      "metadata": {
        "id": "dHyhXvWROr50"
      },
      "execution_count": null,
      "outputs": []
    },
    {
      "cell_type": "markdown",
      "source": [
        "4) Добавляем агента, который производит то же самое действие, что и оппонент на прошлом ходу."
      ],
      "metadata": {
        "id": "nL_M6v5_bTz7"
      }
    },
    {
      "cell_type": "code",
      "source": [
        "class CopyAgent:\n",
        "    def __call__(self, observation, configuration):\n",
        "        # если это не первый ход\n",
        "        if observation.step > 0:\n",
        "            # то ходим так, как ходил соперник в прошлый ход\n",
        "            return observation.lastOpponentAction\n",
        "        # иначе это первый ход\n",
        "        else:\n",
        "            # возвращаем рандомное значение из доступных вариантов\n",
        "            return random.randrange(0, configuration.signs)"
      ],
      "metadata": {
        "id": "8gEvTioHbSe9"
      },
      "execution_count": null,
      "outputs": []
    },
    {
      "cell_type": "markdown",
      "source": [
        "5) Добавляем агента, реагирующего на последний ход соперника.\n",
        "Данный агент выбирает ход, с которым он бы победил в предыдущем раунде."
      ],
      "metadata": {
        "id": "L8uC4iteSjtx"
      }
    },
    {
      "cell_type": "code",
      "source": [
        "class ReactionaryAgent:\n",
        "    def __call__(self, observation, configuration):\n",
        "        # если это первый ход\n",
        "        if observation.step == 0:\n",
        "            # возвращаем рандомное значение из доступных вариантов\n",
        "            return random.randrange(0, configuration.signs)\n",
        "        # берем предыдущий ход соперника и ходим, чтобы победить его\n",
        "        return (observation.lastOpponentAction + 1) % configuration.signs"
      ],
      "metadata": {
        "id": "5SNQR7K1mTzJ"
      },
      "execution_count": null,
      "outputs": []
    },
    {
      "cell_type": "markdown",
      "source": [
        "6) Добавляем агента, реагирующего на последний ход соперника. Данный агент выбирает ход, с которым он бы победил в игре против предыдущего агента(reactionary_agent)"
      ],
      "metadata": {
        "id": "7-i02SrlcBHx"
      }
    },
    {
      "cell_type": "code",
      "source": [
        "class ContrReactionaryAgent:\n",
        "    # инициализируем агента\n",
        "    def __init__(self):\n",
        "        # инициализируем переменную, в которой будем хранить свой последний ход\n",
        "        self.last_step = -1\n",
        "\n",
        "    def __call__(self, observation, configuration):\n",
        "        # если это первый ход\n",
        "        if self.last_step < 0:\n",
        "            # записываем в переменную последнего хода 0\n",
        "            self.last_step = 0\n",
        "        # иначе\n",
        "        else:\n",
        "            # записываем в переменную последнего хода значение на 2 больше,\n",
        "            # чем последний ход соперника\n",
        "            self.last_step = (self.last_step + 2) % configuration.signs\n",
        "        # возвращаем получившееся значение\n",
        "        return self.last_step"
      ],
      "metadata": {
        "id": "dsB3kVb_cRI2"
      },
      "execution_count": null,
      "outputs": []
    },
    {
      "cell_type": "markdown",
      "source": [
        "7) Добавляем монотонного агента, который ходит по порядку меняя ход на следующий (0-1-2-0-1-2-...)."
      ],
      "metadata": {
        "id": "hzrn63VGdCvn"
      }
    },
    {
      "cell_type": "code",
      "source": [
        "class MonotonousAgent:\n",
        "    def __call__(self, observation, configuration):\n",
        "        # если это первый ход\n",
        "        if observation.step == 0:\n",
        "            # возвращаем рандомное значение из доступных вариантов\n",
        "            return random.randrange(0, configuration.signs)\n",
        "        # иначе берем остаток от деления номера текущего эпизода на\n",
        "        # количество возможных вариантов\n",
        "        return observation.step % configuration.signs\n"
      ],
      "metadata": {
        "id": "fkrgE3AedAsw"
      },
      "execution_count": null,
      "outputs": []
    },
    {
      "cell_type": "markdown",
      "source": [
        "8) Добавляем статистического агента, который подсчитывает самый частый ход соперника и соответственно реагирует."
      ],
      "metadata": {
        "id": "cDpPTxKGfbJJ"
      }
    },
    {
      "cell_type": "code",
      "source": [
        "class StatisticalAgent:\n",
        "    def __init__(self):\n",
        "        # инициализируем переменную для хранения статистики\n",
        "        self.action_histogram = {}\n",
        "\n",
        "    def __call__(self, observation, configuration):\n",
        "        # если это первый ход\n",
        "        if observation.step == 0:\n",
        "            # сбрасываем статистику\n",
        "            self.action_histogram = {}\n",
        "            # возвращаем рандомное значение из доступных вариантов\n",
        "            return random.randrange(0, configuration.signs)\n",
        "        # сохраняем в переменную последний ход соперника\n",
        "        action = observation.lastOpponentAction\n",
        "        # если такого ключа еще нет в справочнике\n",
        "        if action not in self.action_histogram:\n",
        "            # добавляем в справочник со значением 0\n",
        "            self.action_histogram[action] = 0\n",
        "        # делаем инкремент счетчика для такого хода соперника\n",
        "        self.action_histogram[action] += 1\n",
        "\n",
        "        # определяем статистически самый частый ход соперника\n",
        "        # инициализируем переменную для хранения хода с максимальным счетчиком\n",
        "        mode_action = None\n",
        "        # инициализируем переменную для хранения максимального значения счетчика\n",
        "        mode_action_count = None\n",
        "        # для каждой пары ключ-значение в справочнике статистики\n",
        "        for k, v in self.action_histogram.items():\n",
        "            # если значение в справочнике для этого ключа не установлено\n",
        "            # или значение итератора больше значения в справочнике\n",
        "            if mode_action_count is None or v > mode_action_count:\n",
        "                # сохраняем текущий ключ в переменную максимума\n",
        "                mode_action = k\n",
        "                # сохраняем текущее значение в переменную максимума\n",
        "                mode_action_count = v\n",
        "                # переходим к следующей итерации\n",
        "                continue\n",
        "        # ходим так, чтобы победить самый частый ход соперника\n",
        "        return (mode_action + 1) % configuration.signs"
      ],
      "metadata": {
        "id": "WY_q9_3AfrVH"
      },
      "execution_count": null,
      "outputs": []
    },
    {
      "cell_type": "markdown",
      "source": [
        "9) Добавляем агента, который ходит всегда случайно."
      ],
      "metadata": {
        "id": "sqW5O6RqgQfK"
      }
    },
    {
      "cell_type": "code",
      "source": [
        "class RandomChoiceAgent:\n",
        "    def __call__(self, observation, configuration):\n",
        "        # возвращаем рандомное значение из доступных вариантов\n",
        "        return random.randrange(0, configuration.signs)"
      ],
      "metadata": {
        "id": "ieOo3nWSgPzs"
      },
      "execution_count": null,
      "outputs": []
    },
    {
      "cell_type": "markdown",
      "source": [
        "10) Добавляем агента, который ходит монотонно, но через один шаг (0-2-1-0-2-1...)"
      ],
      "metadata": {
        "id": "WMFRittE5Y-8"
      }
    },
    {
      "cell_type": "code",
      "source": [
        "class MonotonousStepAgent:\n",
        "    def __init__(self):\n",
        "        # инициализируем поле для хранения последнего хода\n",
        "        self.last_step = -1\n",
        "\n",
        "    def __call__(self, observation, configuration):\n",
        "        # если это первый ход\n",
        "        if self.last_step < 0:\n",
        "            # возвращаем рандомное значение из доступных вариантов\n",
        "            self.last_step = random.randrange(0, configuration.signs)\n",
        "        # прибавляем 2 к своему последнему ходу\n",
        "        return (self.last_step + 2) % configuration.signs\n"
      ],
      "metadata": {
        "id": "WzEdG6K15hrC"
      },
      "execution_count": null,
      "outputs": []
    },
    {
      "cell_type": "markdown",
      "source": [
        "11) Добавляем агента, который ходит монотонно, но повторяет по 2 раза (0-0-1-1-2-2-0...)"
      ],
      "metadata": {
        "id": "T3Eo4iK2k6l0"
      }
    },
    {
      "cell_type": "code",
      "source": [
        "class MonotonousRepeatAgent:\n",
        "    def __init__(self):\n",
        "        # инициализируем поле для хранения последнего хода\n",
        "        self.last_step = -1\n",
        "        # инициализируем поле для хранения  количества повторов\n",
        "        self.repeats = 0\n",
        "\n",
        "    def __call__(self, observation, configuration):\n",
        "        # если это первый ход\n",
        "        if self.last_step < 0:\n",
        "            # возвращаем рандомное значение из доступных вариантов\n",
        "            self.last_step = random.randrange(0, configuration.signs)\n",
        "        # если повтора еще не было\n",
        "        if self.repeats == 0:\n",
        "            # инкрементируем количество повторов\n",
        "            self.repeats += 1\n",
        "        # если уже повторяли\n",
        "        else:\n",
        "            # сбрасываем счетчик повторов\n",
        "            self.repeats = 0\n",
        "            # инкрементируем значение последнего шага\n",
        "            self.last_step = (self.last_step + 1) % configuration.signs\n",
        "        # возвращаем значение поля, хранящего последний шаг\n",
        "        return self.last_step\n"
      ],
      "metadata": {
        "id": "wyC1DxyqlJlI"
      },
      "execution_count": null,
      "outputs": []
    },
    {
      "cell_type": "markdown",
      "source": [
        "12) Добавляем агента, который 1/3 предусмотренных эпизодов ходит 0, затем еще 1/3 ходит 1, потом оставшуюся часть ходит 2"
      ],
      "metadata": {
        "id": "mAMn2rQItxL2"
      }
    },
    {
      "cell_type": "code",
      "source": [
        "class PartAgent:\n",
        "    def __init__(self):\n",
        "        # инициализируем поле для хранения последнего хода\n",
        "        self.last_step = 0\n",
        "        # инициализируем поле для хранения  количества повторов\n",
        "        self.repeats = 0\n",
        "\n",
        "    def __call__(self, observation, configuration):\n",
        "        # если количество повторов меньше 1/3 от запланированного количества эпизодов\n",
        "        if self.repeats < (configuration.get('episodeSteps') / 3):\n",
        "            # инкрементируем счетчик повторов\n",
        "            self.repeats += 1\n",
        "        # иначе переход к следующему значению\n",
        "        else:\n",
        "            # сбрасываем счетчик повторов\n",
        "            self.repeats = 0\n",
        "            # инкрементируем значение последнего шага\n",
        "            self.last_step = (self.last_step + 1) % configuration.signs\n",
        "        # возвращаем значение поля, хранящего последний шаг\n",
        "        return self.last_step\n"
      ],
      "metadata": {
        "id": "x-RK8q68uIXk"
      },
      "execution_count": null,
      "outputs": []
    },
    {
      "cell_type": "markdown",
      "source": [
        "13) Добавляем агента, который 1/3 предусмотренных эпизодов, ходит как ReactionaryAgent, а затем как StatisticalAgent"
      ],
      "metadata": {
        "id": "V8cvOgU7xu4n"
      }
    },
    {
      "cell_type": "code",
      "source": [
        "class ComboAgent:\n",
        "    def __init__(self):\n",
        "        # инициализируем поле для хранения последнего хода\n",
        "        self.last_step = 0\n",
        "        # инициализируем поле для хранения  количества повторов\n",
        "        self.repeats = 0\n",
        "        # инициализируем переменную для хранения статистики\n",
        "        self.action_histogram = {}\n",
        "\n",
        "    def __call__(self, observation, configuration):\n",
        "        # если это первый ход\n",
        "        if observation.step == 0:\n",
        "            # сбрасываем статистику\n",
        "            self.action_histogram = {}\n",
        "            # возвращаем рандомное значение из доступных вариантов\n",
        "            return random.randrange(0, configuration.signs)\n",
        "        # сохраняем в переменную последний ход соперника\n",
        "        action = observation.lastOpponentAction\n",
        "        # если количество повторов меньше 1/3 от запланированного количества эпизодов\n",
        "        if self.repeats < (configuration.get('episodeSteps') / 3):\n",
        "            # инкрементируем счетчик повторов\n",
        "            self.repeats += 1\n",
        "            # берем предыдущий ход соперника и ходим, чтобы победить его\n",
        "            return (action + 1) % configuration.signs\n",
        "        # иначе после прохождения 1/3 эпизодов\n",
        "        else:\n",
        "            # если такого ключа еще нет в справочнике\n",
        "            if action not in self.action_histogram:\n",
        "                # добавляем в справочник со значением 0\n",
        "                self.action_histogram[action] = 0\n",
        "            # делаем инкремент счетчика для такого хода соперника\n",
        "            self.action_histogram[action] += 1\n",
        "\n",
        "            # определяем статистически самый частый ход соперника\n",
        "            # инициализируем переменную для хранения хода с максимальным счетчиком\n",
        "            mode_action = None\n",
        "            # инициализируем переменную для хранения максимального значения счетчика\n",
        "            mode_action_count = None\n",
        "            # для каждой пары ключ-значение в справочнике статистики\n",
        "            for k, v in self.action_histogram.items():\n",
        "                # если значение в справочнике для этого ключа не установлено\n",
        "                # или значение итератора больше значения в справочнике\n",
        "                if mode_action_count is None or v > mode_action_count:\n",
        "                    # сохраняем текущий ключ в переменную максимума\n",
        "                    mode_action = k\n",
        "                    # сохраняем текущее значение в переменную максимума\n",
        "                    mode_action_count = v\n",
        "                    # переходим к следующей итерации\n",
        "                    continue\n",
        "            # ходим так, чтобы победить самый частый ход соперника\n",
        "            return (mode_action + 1) % configuration.signs\n"
      ],
      "metadata": {
        "id": "e-SXu4AYyNbd"
      },
      "execution_count": null,
      "outputs": []
    },
    {
      "cell_type": "markdown",
      "source": [
        "Собираем справочник агентов, где ключ - наименование, а значение - инстанс соответствующего агента"
      ],
      "metadata": {
        "id": "NW06potm1FAa"
      }
    },
    {
      "cell_type": "code",
      "source": [
        "agents = {\n",
        "    'rock': RockAgent(),\n",
        "    'paper': PaperAgent(),\n",
        "    'scissors': ScissorsAgent(),\n",
        "    'copy_opponent': CopyAgent(),\n",
        "    'reactionary': ReactionaryAgent(),\n",
        "    'contr_reactionary': ContrReactionaryAgent(),\n",
        "    'monotonous': MonotonousAgent(),\n",
        "    'statistical': StatisticalAgent(),\n",
        "    'random_choice': RandomChoiceAgent(),\n",
        "    'monotonous_step': MonotonousStepAgent(),\n",
        "    'repeat': MonotonousRepeatAgent(),\n",
        "    'part': PartAgent(),\n",
        "    'combo': ComboAgent()\n",
        "}"
      ],
      "metadata": {
        "id": "ToW4XKhL1EUe"
      },
      "execution_count": null,
      "outputs": []
    },
    {
      "cell_type": "markdown",
      "source": [
        "Проводим Турнир в 2-х разрезах:\n",
        "\n",
        "\n",
        "1.   За победу в матче присуждаем 2 очка, за ничью - 1\n",
        "2.   Считаем сумму по выигранным/проигранным эпизодам - за победу в эпизоде +1, за поражение -1\n",
        "\n"
      ],
      "metadata": {
        "id": "ltASNhFFyIoh"
      }
    },
    {
      "cell_type": "code",
      "source": [
        "class Tournament:\n",
        "    def __init__(self, agents):\n",
        "        \"\"\"\n",
        "        :param dict agents: справочник агентов\n",
        "        \"\"\"\n",
        "\n",
        "        # инициализируем атрибут со справочником агентов\n",
        "        self.agents = agents\n",
        "        # инициализируем справочник с результатами\n",
        "        self.results = {}\n",
        "        # для каждого ключа в справочнике агентов\n",
        "        for agent in agents:\n",
        "            # подготавливаем результат с 0 значением\n",
        "            self.results[agent] = {'episodes_sum': 0, 'points': 0}\n",
        "\n",
        "    # приватный метод для сохранения результатов раунда\n",
        "    def __save_result(self, round_result, left, right):\n",
        "        \"\"\"\n",
        "        Сохраняет результаты раунда.\n",
        "\n",
        "        :param list round_result: результаты раунда\n",
        "        :param str left: наименование левого агента\n",
        "        :param str right: наименование правого агента\n",
        "        \"\"\"\n",
        "        # сохраняем в переменную количество побед в ранде левого агента\n",
        "        left_wins = round_result[0][0]\n",
        "        # сохраняем в переменную количество побед в ранде левого агента\n",
        "        right_wins = round_result[0][1]\n",
        "        # добавляем победы левого агента в результаты\n",
        "        self.results[left]['episodes_sum'] += left_wins\n",
        "        # добавляем победы правого агента в результаты\n",
        "        self.results[right]['episodes_sum'] += right_wins\n",
        "        # если у левого агента больше побед\n",
        "        if left_wins > right_wins:\n",
        "            # добавляем в результаты 2 очка левому агенту\n",
        "            self.results[left]['points'] += 2\n",
        "        # если у правого агента больше побед\n",
        "        elif left_wins < right_wins:\n",
        "            # добавляем в результаты 2 очка правому агенту\n",
        "            self.results[right]['points'] += 2\n",
        "        # иначе ничья\n",
        "        else:\n",
        "            # добавляем в результаты 1 очко левому агенту\n",
        "            self.results[left]['points'] += 1\n",
        "            # добавляем в результаты 1 очко правому агенту\n",
        "            self.results[right]['points'] += 1\n",
        "\n",
        "    def start(self, episodes):\n",
        "        \"\"\"\n",
        "        Метод запускает проведение турнира.\n",
        "\n",
        "        :param int episodes: количество эпизодов в каждом раунде\n",
        "        \"\"\"\n",
        "        # собираем список имен агентов\n",
        "        names = list(self.agents.keys())\n",
        "\n",
        "        # проводим раунды для всех возможных пар агентов\n",
        "        # для числа i от 0 до количества агентов уменьшенного на 1\n",
        "        # i будет представлять индекс левого агента в раунде\n",
        "        for i in range(len(names) - 1):\n",
        "            # для числа j от 0 до количества агентов уменьшенного на 1\n",
        "            for j in range(len(names) - 1):\n",
        "                # определяем индекс правого агента\n",
        "                index = j + 1 + i\n",
        "                # если вычисленный индекс превысил макимальный индекс\n",
        "                if index > (len(names) - 1):\n",
        "                    # выходим из цикла\n",
        "                    break\n",
        "                # сохраняем в переменную имя левого агента\n",
        "                left = names[i]\n",
        "                # сохраняем в переменную имя правого агента\n",
        "                right = names[index]\n",
        "                # проводим раунд и сохраняем результат в переменную\n",
        "                round_result = evaluate(\n",
        "                    \"rps\", #environment to use - no need to change\n",
        "                    [agents[left], agents[right]], #agents to evaluate\n",
        "                    configuration={\"episodeSteps\": episodes}, #episodes\n",
        "                    debug=True\n",
        "                )\n",
        "                # сохраняем результат раунда\n",
        "                self.__save_result(round_result, left, right)\n",
        "\n",
        "    def print_result(self):\n",
        "        \"\"\"\n",
        "        Отображает результаты турнира\n",
        "        \"\"\"\n",
        "        # сортируем результат по полученным очкам\n",
        "        sorted_table_p = dict(\n",
        "            sorted(\n",
        "                self.results.items(),\n",
        "                key=lambda x: (x[1].get('points'), x[1].get('episodes_sum')),\n",
        "                reverse=True\n",
        "                )\n",
        "            )\n",
        "        # собираем список имен агентов в отсортированном порядке\n",
        "        names_p = [name for name in sorted_table_p]\n",
        "        # собираем список очков в отсортированном порядке\n",
        "        points = [x[1].get('points') for x in sorted_table_p.items()]\n",
        "\n",
        "        # создаем и отображаем график\n",
        "        dfp = pd.DataFrame({\"agent\": names_p, \"point\": points})\n",
        "        plt.figure(figsize=(25, 5))\n",
        "        splot = sns.barplot(x=\"agent\",y=\"point\",data=dfp)\n",
        "        plt.xlabel(\"Агент\", size=16)\n",
        "        plt.ylabel(\"Очки\", size=16)\n",
        "        plt.bar_label(splot.containers[0],size=16,label_type='center')\n",
        "        plt.suptitle('По очкам')\n",
        "        plt.show()\n",
        "\n",
        "        # сортируем результат по сумме выигранных эпизодов\n",
        "        sorted_table_e = dict(\n",
        "            sorted(\n",
        "                self.results.items(),\n",
        "                key=lambda x: (x[1].get('episodes_sum'), x[1].get('points')),\n",
        "                reverse=True\n",
        "                )\n",
        "            )\n",
        "        # собираем список имен агентов в отсортированном порядке\n",
        "        names_e = [name for name in sorted_table_e]\n",
        "        # собираем список сумм выигранных эпизодов в отсортированном порядке\n",
        "        ep_sum = [x[1].get('episodes_sum') for x in sorted_table_e.items()]\n",
        "\n",
        "        # создаем и отображаем график\n",
        "        dfe = pd.DataFrame({\"agent\": names_e, \"win\": ep_sum})\n",
        "        plt.figure(figsize=(25, 5))\n",
        "        splot=sns.barplot(x=\"agent\",y=\"win\",data=dfe)\n",
        "        plt.xlabel(\"Агент\", size=16)\n",
        "        plt.ylabel(\"Сумма по эпизодам\", size=16)\n",
        "        plt.bar_label(splot.containers[0],size=16,label_type='center')\n",
        "        plt.suptitle('По эпизодам')\n",
        "        plt.show()\n",
        "\n",
        "\n",
        "# создаем турнир, передав подготовленный справочник агентов\n",
        "tournament = Tournament(agents)\n",
        "# запускаем турнир, передав количество эпизодов в раунде\n",
        "tournament.start(1000)\n",
        "# отображаем результат турнира\n",
        "tournament.print_result()"
      ],
      "metadata": {
        "colab": {
          "base_uri": "https://localhost:8080/",
          "height": 886
        },
        "id": "QCwHOdUc1mfc",
        "outputId": "4cc2ec3a-9fb7-4b02-b03a-6b129e39749e"
      },
      "execution_count": null,
      "outputs": [
        {
          "output_type": "display_data",
          "data": {
            "text/plain": [
              "<Figure size 2500x500 with 1 Axes>"
            ],
            "image/png": "[encoded data removed]"
          },
          "metadata": {}
        },
        {
          "output_type": "display_data",
          "data": {
            "text/plain": [
              "<Figure size 2500x500 with 1 Axes>"
            ],
            "image/png": "[encoded data removed]"
          },
          "metadata": {}
        }
      ]
    },
    {
      "cell_type": "markdown",
      "source": [
        "Отдельные агенты"
      ],
      "metadata": {
        "id": "g2BdLAQKP6Yq"
      }
    },
    {
      "cell_type": "code",
      "source": [
        "round_result = evaluate(\n",
        "                    \"rps\", #environment to use - no need to change\n",
        "                    [ReactionaryAgent(), ComboAgent()], #agents to evaluate\n",
        "                    configuration={\"episodeSteps\": 100}, #episodes\n",
        "                    debug=True\n",
        "                )\n",
        "round_result"
      ],
      "metadata": {
        "colab": {
          "base_uri": "https://localhost:8080/"
        },
        "id": "LJ_45X41P42F",
        "outputId": "076ed620-5116-4c52-b7d6-ccd1af7b8d90"
      },
      "execution_count": null,
      "outputs": [
        {
          "output_type": "execute_result",
          "data": {
            "text/plain": [
              "[[39.0, -39.0]]"
            ]
          },
          "metadata": {},
          "execution_count": 18
        }
      ]
    }
  ]
}